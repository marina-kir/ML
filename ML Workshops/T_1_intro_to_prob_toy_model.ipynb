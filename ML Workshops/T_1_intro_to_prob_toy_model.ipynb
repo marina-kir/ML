{
 "cells": [
  {
   "cell_type": "markdown",
   "metadata": {},
   "source": [
    "## Intro To Probability - Toy Model"
   ]
  },
  {
   "cell_type": "code",
   "execution_count": 1,
   "metadata": {},
   "outputs": [
    {
     "data": {
      "text/html": [
       "<link rel=\"stylesheet\" href=\"../../../css/style.css\">"
      ],
      "text/plain": [
       "<IPython.core.display.HTML object>"
      ]
     },
     "metadata": {},
     "output_type": "display_data"
    },
    {
     "data": {
      "text/html": [
       "<style>.output_png { display: table-cell; text-align: center; vertical-align: middle; }</style>"
      ],
      "text/plain": [
       "<IPython.core.display.HTML object>"
      ]
     },
     "metadata": {},
     "output_type": "display_data"
    }
   ],
   "source": [
    "# Importing packages\n",
    "import numpy as np  # Numerical package (mainly multi-dimensional arrays and linear algebra)\n",
    "import pandas as pd  # A package for working with data frames\n",
    "import matplotlib.pyplot as plt  # A plotting package\n",
    "\n",
    "## Setup matplotlib to output figures into the notebook\n",
    "## - To make the figures interactive (zoomable, tooltip, etc.) use \"\"%matplotlib notebook\" instead\n",
    "%matplotlib inline\n",
    "\n",
    "## Setting some nice matplotlib defaults\n",
    "plt.rcParams['figure.figsize'] = (5.0, 5.0)  # Set default plot's sizes\n",
    "plt.rcParams['figure.dpi'] = 120  # Set default plot's dpi (increase fonts' size)\n",
    "plt.rcParams['axes.grid'] = True  # Show grid by default in figures\n",
    "\n",
    "## Auxiliary function for prining equations and pandas tables in cells output\n",
    "from IPython.core.display import display, HTML, Latex\n",
    "\n",
    "## Setting style (not relevant in Colab)\n",
    "display(HTML('<link rel=\"stylesheet\" href=\"../../../css/style.css\">'))  ## Use the same style as the rest of the site (mostly for titiles)\n",
    "display(HTML(\"<style>.output_png { display: table-cell; text-align: center; vertical-align: middle; }</style>\"))  ## Center output figures"
   ]
  },
  {
   "cell_type": "markdown",
   "metadata": {},
   "source": [
    "### Toy Model: The 🍕 Pizza & Pancakes 🥞 Drive-Thru\n",
    "\n",
    "| $$X$$ 🍕 \\ $$Y$$ 🥞 |  0   |  1   |  2   |  3   |\n",
    "| ------------------- | ---- | ---- | ---- | ---- |\n",
    "|          0          | 0    | 0.15 | 0.2  | 0.05 |\n",
    "|          1          | 0.08 | 0.03 | ???  | 0.04 |\n",
    "|          2          | 0.02 | 0.03 | 0.04 | 0.01 |\n",
    "|          3          | 0.1  | 0.05 | 0.05 | 0.1  |"
   ]
  },
  {
   "cell_type": "code",
   "execution_count": 2,
   "metadata": {},
   "outputs": [
    {
     "data": {
      "text/html": [
       "<table border=\"1\" class=\"dataframe\">\n",
       "  <thead>\n",
       "    <tr style=\"text-align: right;\">\n",
       "      <th></th>\n",
       "      <th>0</th>\n",
       "      <th>1</th>\n",
       "      <th>2</th>\n",
       "      <th>3</th>\n",
       "    </tr>\n",
       "  </thead>\n",
       "  <tbody>\n",
       "    <tr>\n",
       "      <th>0</th>\n",
       "      <td>0.00</td>\n",
       "      <td>0.15</td>\n",
       "      <td>0.20</td>\n",
       "      <td>0.05</td>\n",
       "    </tr>\n",
       "    <tr>\n",
       "      <th>1</th>\n",
       "      <td>0.08</td>\n",
       "      <td>0.03</td>\n",
       "      <td>NaN</td>\n",
       "      <td>0.04</td>\n",
       "    </tr>\n",
       "    <tr>\n",
       "      <th>2</th>\n",
       "      <td>0.02</td>\n",
       "      <td>0.03</td>\n",
       "      <td>0.04</td>\n",
       "      <td>0.01</td>\n",
       "    </tr>\n",
       "    <tr>\n",
       "      <th>3</th>\n",
       "      <td>0.10</td>\n",
       "      <td>0.05</td>\n",
       "      <td>0.05</td>\n",
       "      <td>0.10</td>\n",
       "    </tr>\n",
       "  </tbody>\n",
       "</table>"
      ],
      "text/plain": [
       "<IPython.core.display.HTML object>"
      ]
     },
     "metadata": {},
     "output_type": "display_data"
    }
   ],
   "source": [
    "## P_{X,Y} joint distribution\n",
    "## --------------------------\n",
    "x_values = y_values = np.array([0, 1, 2, 3])\n",
    "p_xy = pd.DataFrame([[0   , 0.15, 0.2   , 0.05],\n",
    "                     [0.08, 0.03, np.nan, 0.04],\n",
    "                     [0.02, 0.03, 0.04  , 0.01],\n",
    "                     [0.1 , 0.05, 0.05  , 0.1 ]],\n",
    "                     index=[0, 1, 2, 3],\n",
    "                     columns=[0, 1, 2, 3])\n",
    "display(HTML(p_xy.to_html()))"
   ]
  },
  {
   "cell_type": "markdown",
   "metadata": {},
   "source": [
    "#### Ex. 1.2a\n",
    "\n",
    "Calcualting $p_{X,Y}\\left(1,2\\right)$"
   ]
  },
  {
   "cell_type": "code",
   "execution_count": 3,
   "metadata": {},
   "outputs": [
    {
     "data": {
      "text/latex": [
       "$p_{X,Y}\\left(1,2\\right)=0.05$"
      ],
      "text/plain": [
       "<IPython.core.display.Latex object>"
      ]
     },
     "metadata": {},
     "output_type": "display_data"
    },
    {
     "data": {
      "text/latex": [
       "$p_{{X,Y}}$:"
      ],
      "text/plain": [
       "<IPython.core.display.Latex object>"
      ]
     },
     "metadata": {},
     "output_type": "display_data"
    },
    {
     "data": {
      "text/html": [
       "<table border=\"1\" class=\"dataframe\">\n",
       "  <thead>\n",
       "    <tr style=\"text-align: right;\">\n",
       "      <th></th>\n",
       "      <th>0</th>\n",
       "      <th>1</th>\n",
       "      <th>2</th>\n",
       "      <th>3</th>\n",
       "    </tr>\n",
       "  </thead>\n",
       "  <tbody>\n",
       "    <tr>\n",
       "      <th>0</th>\n",
       "      <td>0.00</td>\n",
       "      <td>0.15</td>\n",
       "      <td>0.20</td>\n",
       "      <td>0.05</td>\n",
       "    </tr>\n",
       "    <tr>\n",
       "      <th>1</th>\n",
       "      <td>0.08</td>\n",
       "      <td>0.03</td>\n",
       "      <td>0.05</td>\n",
       "      <td>0.04</td>\n",
       "    </tr>\n",
       "    <tr>\n",
       "      <th>2</th>\n",
       "      <td>0.02</td>\n",
       "      <td>0.03</td>\n",
       "      <td>0.04</td>\n",
       "      <td>0.01</td>\n",
       "    </tr>\n",
       "    <tr>\n",
       "      <th>3</th>\n",
       "      <td>0.10</td>\n",
       "      <td>0.05</td>\n",
       "      <td>0.05</td>\n",
       "      <td>0.10</td>\n",
       "    </tr>\n",
       "  </tbody>\n",
       "</table>"
      ],
      "text/plain": [
       "<IPython.core.display.HTML object>"
      ]
     },
     "metadata": {},
     "output_type": "display_data"
    }
   ],
   "source": [
    "p_xy.loc[1, 2] = 1 - np.nansum(p_xy)\n",
    "display(\n",
    "    Latex(r'$p_{{X,Y}}\\left(1,2\\right)={:.3}$'.format(p_xy.loc[1, 2])),\n",
    "    Latex(r'$p_{{X,Y}}$:'),\n",
    "    HTML(p_xy.to_html()),\n",
    "    )"
   ]
  },
  {
   "cell_type": "markdown",
   "metadata": {},
   "source": [
    "#### Ex 1.2b\n",
    "Calculating $p_{X\\lvert Y}\\left(1\\lvert Y=0\\right)$"
   ]
  },
  {
   "cell_type": "code",
   "execution_count": 4,
   "metadata": {},
   "outputs": [
    {
     "data": {
      "text/latex": [
       "$p_{X\\lvert Y}\\left(1\\lvert Y=0\\right)=0.4$"
      ],
      "text/plain": [
       "<IPython.core.display.Latex object>"
      ]
     },
     "metadata": {},
     "output_type": "display_data"
    }
   ],
   "source": [
    "p_x_given_y_1_0 = p_xy.loc[1, 0] / p_xy.loc[:, 0].sum()\n",
    "display(Latex(r'$p_{{X\\lvert Y}}\\left(1\\lvert Y=0\\right)={:.3}$'.format(p_x_given_y_1_0)))"
   ]
  },
  {
   "cell_type": "markdown",
   "metadata": {},
   "source": [
    "#### Ex 1.2c"
   ]
  },
  {
   "cell_type": "markdown",
   "metadata": {},
   "source": [
    "Calcualting $p_X\\left(x\\right)$"
   ]
  },
  {
   "cell_type": "code",
   "execution_count": 5,
   "metadata": {},
   "outputs": [
    {
     "data": {
      "text/latex": [
       "$p_{{X}}\\left(x\\right)$:"
      ],
      "text/plain": [
       "<IPython.core.display.Latex object>"
      ]
     },
     "metadata": {},
     "output_type": "display_data"
    },
    {
     "data": {
      "text/html": [
       "<table border=\"1\" class=\"dataframe\">\n",
       "  <thead>\n",
       "    <tr style=\"text-align: right;\">\n",
       "      <th></th>\n",
       "      <th>0</th>\n",
       "    </tr>\n",
       "  </thead>\n",
       "  <tbody>\n",
       "    <tr>\n",
       "      <th>0</th>\n",
       "      <td>0.4</td>\n",
       "    </tr>\n",
       "    <tr>\n",
       "      <th>1</th>\n",
       "      <td>0.2</td>\n",
       "    </tr>\n",
       "    <tr>\n",
       "      <th>2</th>\n",
       "      <td>0.1</td>\n",
       "    </tr>\n",
       "    <tr>\n",
       "      <th>3</th>\n",
       "      <td>0.3</td>\n",
       "    </tr>\n",
       "  </tbody>\n",
       "</table>"
      ],
      "text/plain": [
       "<IPython.core.display.HTML object>"
      ]
     },
     "metadata": {},
     "output_type": "display_data"
    }
   ],
   "source": [
    "p_x = p_xy.sum(axis=1)\n",
    "display(\n",
    "    Latex(r'$p_{{X}}\\left(x\\right)$:'),\n",
    "    HTML(p_x.to_frame().to_html())\n",
    "    )"
   ]
  },
  {
   "cell_type": "markdown",
   "metadata": {},
   "source": [
    "Calculating $Pr\\left(X_1+X_2=3\\right)$"
   ]
  },
  {
   "cell_type": "code",
   "execution_count": 6,
   "metadata": {},
   "outputs": [
    {
     "data": {
      "text/latex": [
       "$Pr\\left(X_1+X_2=3\\right)=0.28$"
      ],
      "text/plain": [
       "<IPython.core.display.Latex object>"
      ]
     },
     "metadata": {},
     "output_type": "display_data"
    }
   ],
   "source": [
    "prob3 = np.sum([p_x[x1] * p_x[3 - x1] for x1 in range(4)])\n",
    "display(Latex(r'$Pr\\left(X_1+X_2=3\\right)={:.3}$'.format(prob3)))"
   ]
  },
  {
   "cell_type": "markdown",
   "metadata": {},
   "source": [
    "#### Ex 1.3"
   ]
  },
  {
   "cell_type": "code",
   "execution_count": 7,
   "metadata": {},
   "outputs": [],
   "source": [
    "## Import the normal distribution model from SciPy\n",
    "from scipy.stats import norm\n",
    "\n",
    "length_grid = np.arange(3.5, 5.3, 0.01)\n",
    "sigma = 0.2\n",
    "p_l_given_x = [norm(4 + 0.2 * x, sigma) for x in p_x.index]"
   ]
  },
  {
   "cell_type": "markdown",
   "metadata": {},
   "source": [
    "##### Plotting"
   ]
  },
  {
   "cell_type": "code",
   "execution_count": 8,
   "metadata": {},
   "outputs": [
    {
     "data": {
      "image/png": "[encoded data removed]",
      "text/plain": [
       "<Figure size 600x360 with 1 Axes>"
      ]
     },
     "metadata": {
      "needs_background": "light"
     },
     "output_type": "display_data"
    }
   ],
   "source": [
    "fig, ax = plt.subplots(figsize=(5, 3))\n",
    "ax.set_title(r'$p_{L|X}\\left(l|x\\right)$')\n",
    "for x in p_x.index:\n",
    "    ax.plot(length_grid, p_l_given_x[x].pdf(length_grid), label='$x={}$'.format(x));\n",
    "ax.set_xlabel('Car length [m]')\n",
    "ax.set_ylabel('PDF')\n",
    "ax.legend()\n",
    "plt.tight_layout()"
   ]
  },
  {
   "cell_type": "code",
   "execution_count": 9,
   "metadata": {},
   "outputs": [
    {
     "data": {
      "image/png": "[encoded data removed]",
      "text/plain": [
       "<Figure size 600x360 with 1 Axes>"
      ]
     },
     "metadata": {
      "needs_background": "light"
     },
     "output_type": "display_data"
    }
   ],
   "source": [
    "fig, ax = plt.subplots(figsize=(5, 3))\n",
    "ax.set_title(r'$p_{L|X}\\left(l|x\\right)p_X\\left(x\\right)$')\n",
    "for x in  p_x.index:\n",
    "    ax.plot(length_grid, p_l_given_x[x].pdf(length_grid) * p_x[x], label='$x={}$'.format(x));\n",
    "ax.set_xlabel('Car length [m]')\n",
    "ax.set_ylabel('PDF')\n",
    "ax.legend()\n",
    "plt.tight_layout()"
   ]
  },
  {
   "cell_type": "markdown",
   "metadata": {},
   "source": [
    "Calculating:\n",
    "\n",
    "$p_{X,L}\\left(x,4.4\\right)=p_{L|X}\\left(4.4|x\\right)p_X\\left(x\\right)$"
   ]
  },
  {
   "cell_type": "code",
   "execution_count": 10,
   "metadata": {},
   "outputs": [
    {
     "data": {
      "text/latex": [
       "$p_{{X|L}}\\left(x,0.44\\right)$:"
      ],
      "text/plain": [
       "<IPython.core.display.Latex object>"
      ]
     },
     "metadata": {},
     "output_type": "display_data"
    },
    {
     "data": {
      "text/html": [
       "<table border=\"1\" class=\"dataframe\">\n",
       "  <thead>\n",
       "    <tr style=\"text-align: right;\">\n",
       "      <th></th>\n",
       "      <th>0</th>\n",
       "    </tr>\n",
       "  </thead>\n",
       "  <tbody>\n",
       "    <tr>\n",
       "      <th>0</th>\n",
       "      <td>0.107982</td>\n",
       "    </tr>\n",
       "    <tr>\n",
       "      <th>1</th>\n",
       "      <td>0.241971</td>\n",
       "    </tr>\n",
       "    <tr>\n",
       "      <th>2</th>\n",
       "      <td>0.199471</td>\n",
       "    </tr>\n",
       "    <tr>\n",
       "      <th>3</th>\n",
       "      <td>0.362956</td>\n",
       "    </tr>\n",
       "  </tbody>\n",
       "</table>"
      ],
      "text/plain": [
       "<IPython.core.display.HTML object>"
      ]
     },
     "metadata": {},
     "output_type": "display_data"
    }
   ],
   "source": [
    "p_x_l0 = pd.Series([p_l_given_x[x].pdf(4.4) for x in p_x.index], index=p_x.index) * p_x\n",
    "display(Latex(r'$p_{{X|L}}\\left(x,0.44\\right)$:'))\n",
    "display(HTML(p_x_l0.to_frame().to_html()))"
   ]
  },
  {
   "cell_type": "markdown",
   "metadata": {},
   "source": [
    "Calculating:\n",
    "\n",
    "$p_{X|L}\\left(x|L=4.4\\right)$"
   ]
  },
  {
   "cell_type": "code",
   "execution_count": 11,
   "metadata": {},
   "outputs": [
    {
     "data": {
      "text/latex": [
       "$p_{X|L}\\left(x|L=4.4\\right)$:"
      ],
      "text/plain": [
       "<IPython.core.display.Latex object>"
      ]
     },
     "metadata": {},
     "output_type": "display_data"
    },
    {
     "data": {
      "text/html": [
       "<table border=\"1\" class=\"dataframe\">\n",
       "  <thead>\n",
       "    <tr style=\"text-align: right;\">\n",
       "      <th></th>\n",
       "      <th>0</th>\n",
       "    </tr>\n",
       "  </thead>\n",
       "  <tbody>\n",
       "    <tr>\n",
       "      <th>0</th>\n",
       "      <td>0.118352</td>\n",
       "    </tr>\n",
       "    <tr>\n",
       "      <th>1</th>\n",
       "      <td>0.265208</td>\n",
       "    </tr>\n",
       "    <tr>\n",
       "      <th>2</th>\n",
       "      <td>0.218627</td>\n",
       "    </tr>\n",
       "    <tr>\n",
       "      <th>3</th>\n",
       "      <td>0.397812</td>\n",
       "    </tr>\n",
       "  </tbody>\n",
       "</table>"
      ],
      "text/plain": [
       "<IPython.core.display.HTML object>"
      ]
     },
     "metadata": {},
     "output_type": "display_data"
    }
   ],
   "source": [
    "px_given_l0 = p_x_l0 / p_x_l0.sum()\n",
    "display(Latex(r'$p_{X|L}\\left(x|L=4.4\\right)$:'))\n",
    "display(HTML(px_given_l0.to_frame().to_html()))"
   ]
  },
  {
   "cell_type": "markdown",
   "metadata": {},
   "source": [
    "#### Ex 1.3\n",
    "\n",
    "Calcualting $\\mathbb{E}\\left[X|L=4.4\\right]$"
   ]
  },
  {
   "cell_type": "code",
   "execution_count": 12,
   "metadata": {},
   "outputs": [
    {
     "data": {
      "text/latex": [
       "$\\hat{x}^*_\\left(l_2\\right)=1.896$"
      ],
      "text/plain": [
       "<IPython.core.display.Latex object>"
      ]
     },
     "metadata": {},
     "output_type": "display_data"
    }
   ],
   "source": [
    "x_hat_l2 = (px_given_l0 * p_x.index).sum()\n",
    "display(Latex(r'$\\hat{{x}}^*_\\left(l_2\\right)={:.4}$'.format(x_hat_l2)))"
   ]
  },
  {
   "cell_type": "markdown",
   "metadata": {},
   "source": [
    "#### Extra"
   ]
  },
  {
   "cell_type": "code",
   "execution_count": 13,
   "metadata": {},
   "outputs": [],
   "source": [
    "p_xl = np.array([p_l_given_x[x].pdf(length_grid) * p_x[x] for x in p_x.index])\n",
    "p_x_given_l = p_xl / p_xl.sum(axis=0, keepdims=True)\n",
    "\n",
    "fig, ax = plt.subplots(figsize=(5, 3))\n",
    "ax.set_title('Solution for Different Losses')\n",
    "\n",
    "ax.plot(length_grid, p_x_given_l.argmax(axis=0), label='Zero-one');\n",
    "ax.plot(length_grid, (p_x_given_l.cumsum(axis=0) > 0.5).argmax(axis=0), label='$l_1$');\n",
    "ax.plot(length_grid, (p_x.index.values[:, None] * p_x_given_l).sum(axis=0), label='$l_2$');\n",
    "\n",
    "ax.set_xlabel('Car length [m]')\n",
    "ax.set_ylabel('$\\hat{x}^*$')\n",
    "ax.legend()\n",
    "plt.tight_layout()\n",
    "\n",
    "fig, ax = plt.subplots(figsize=(3, 3))\n",
    "ax.set_title('Solution for Different Losses')\n",
    "\n",
    "ax.plot(length_grid, p_x_given_l.argmax(axis=0), label='Zero-one');\n",
    "ax.plot(length_grid, (p_x_given_l.cumsum(axis=0) > 0.5).argmax(axis=0), label='$l_1$');\n",
    "ax.plot(length_grid, (p_x.index.values[:, None] * p_x_given_l).sum(axis=0), label='$l_2$');\n",
    "\n",
    "ax.set_xlabel('Car length [m]')\n",
    "ax.set_ylabel('$\\hat{x}^*$')\n",
    "ax.set_xlim(4.2, 4.6)\n",
    "ax.legend()\n",
    "plt.tight_layout()"
   ]
  }
 ],
 "metadata": {
  "kernelspec": {
   "display_name": "Python 3",
   "language": "python",
   "name": "python3"
  },
  "language_info": {
   "codemirror_mode": {
    "name": "ipython",
    "version": 3
   },
   "file_extension": ".py",
   "mimetype": "text/x-python",
   "name": "python",
   "nbconvert_exporter": "python",
   "pygments_lexer": "ipython3",
   "version": "3.8.3"
  }
 },
 "nbformat": 4,
 "nbformat_minor": 2
}
